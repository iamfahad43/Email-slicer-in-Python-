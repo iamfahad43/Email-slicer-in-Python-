{
 "cells": [
  {
   "cell_type": "code",
   "execution_count": 5,
   "id": "86e1a672",
   "metadata": {},
   "outputs": [
    {
     "name": "stdout",
     "output_type": "stream",
     "text": [
      "Enter your Emailthisisnowmail@yahoo.com\n",
      "thisisnowmail\n",
      "yahoo.com\n"
     ]
    }
   ],
   "source": [
    "#This is an Email slicer which will slice the domain part of an Email \n",
    "#Ask user for Email \n",
    "email = input(\"Enter your Email\").strip()\n",
    "#Now slice the domain part\n",
    "username = email[:email.index('@')]\n",
    "domain = email[email.index('@') + 1:]\n",
    "print(username)\n",
    "print(domain)\n"
   ]
  },
  {
   "cell_type": "code",
   "execution_count": 2,
   "id": "2de56ed2",
   "metadata": {},
   "outputs": [
    {
     "name": "stdout",
     "output_type": "stream",
     "text": [
      "ahmadtarig123\n",
      "gmail.com\n"
     ]
    }
   ],
   "source": [
    "print(username)\n",
    "print(domain)"
   ]
  },
  {
   "cell_type": "code",
   "execution_count": null,
   "id": "306e61ce",
   "metadata": {},
   "outputs": [],
   "source": []
  }
 ],
 "metadata": {
  "kernelspec": {
   "display_name": "Python 3 (ipykernel)",
   "language": "python",
   "name": "python3"
  },
  "language_info": {
   "codemirror_mode": {
    "name": "ipython",
    "version": 3
   },
   "file_extension": ".py",
   "mimetype": "text/x-python",
   "name": "python",
   "nbconvert_exporter": "python",
   "pygments_lexer": "ipython3",
   "version": "3.9.7"
  }
 },
 "nbformat": 4,
 "nbformat_minor": 5
}
